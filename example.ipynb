{
 "cells": [
  {
   "cell_type": "code",
   "execution_count": 1,
   "id": "685108d3",
   "metadata": {},
   "outputs": [],
   "source": [
    "from ddpipe.client import DDClient\n",
    "import time"
   ]
  },
  {
   "cell_type": "code",
   "execution_count": 2,
   "id": "0854968c",
   "metadata": {},
   "outputs": [],
   "source": [
    "dd = DDClient()\n",
    "now = int(time.time())\n",
    "hour_ago = now - 3600"
   ]
  },
  {
   "cell_type": "code",
   "execution_count": 3,
   "id": "d6cc1887",
   "metadata": {},
   "outputs": [
    {
     "name": "stdout",
     "output_type": "stream",
     "text": [
      "            timestamp     value           metric       host           scope\n",
      "0 2025-10-14 12:42:40  6.158948  system.cpu.user  DZ_Laptop  host:DZ_Laptop\n",
      "1 2025-10-14 12:43:00  9.244552  system.cpu.user  DZ_Laptop  host:DZ_Laptop\n",
      "2 2025-10-14 12:43:20  9.413847  system.cpu.user  DZ_Laptop  host:DZ_Laptop\n",
      "3 2025-10-14 12:43:40  6.380530  system.cpu.user  DZ_Laptop  host:DZ_Laptop\n",
      "4 2025-10-14 12:44:00  8.059972  system.cpu.user  DZ_Laptop  host:DZ_Laptop\n"
     ]
    }
   ],
   "source": [
    "df = dd.query(\"avg:system.cpu.user{*} by {host}\", since=hour_ago, until=now)\n",
    "print(df.head())"
   ]
  }
 ],
 "metadata": {
  "kernelspec": {
   "display_name": ".venv",
   "language": "python",
   "name": "python3"
  },
  "language_info": {
   "codemirror_mode": {
    "name": "ipython",
    "version": 3
   },
   "file_extension": ".py",
   "mimetype": "text/x-python",
   "name": "python",
   "nbconvert_exporter": "python",
   "pygments_lexer": "ipython3",
   "version": "3.10.2"
  }
 },
 "nbformat": 4,
 "nbformat_minor": 5
}
